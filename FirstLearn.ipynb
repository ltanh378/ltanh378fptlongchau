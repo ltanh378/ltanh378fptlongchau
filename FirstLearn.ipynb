{
 "cells": [
  {
   "cell_type": "code",
   "execution_count": 3,
   "id": "bc3acc44",
   "metadata": {},
   "outputs": [],
   "source": [
    "import pandas as pd\n",
    "import os"
   ]
  },
  {
   "cell_type": "markdown",
   "id": "5e92fd99",
   "metadata": {},
   "source": [
    "# Import data"
   ]
  },
  {
   "cell_type": "code",
   "execution_count": 4,
   "id": "c4450319",
   "metadata": {},
   "outputs": [
    {
     "name": "stderr",
     "output_type": "stream",
     "text": [
      "c:\\Users\\ltanh\\AppData\\Local\\Programs\\Python\\Python313\\Lib\\site-packages\\openpyxl\\styles\\stylesheet.py:237: UserWarning: Workbook contains no default style, apply openpyxl's default\n",
      "  warn(\"Workbook contains no default style, apply openpyxl's default\")\n"
     ]
    },
    {
     "data": {
      "application/vnd.microsoft.datawrangler.viewer.v0+json": {
       "columns": [
        {
         "name": "index",
         "rawType": "int64",
         "type": "integer"
        },
        {
         "name": "Tên nhân viên(*)",
         "rawType": "object",
         "type": "string"
        },
        {
         "name": "Mã nhân viên(*)",
         "rawType": "int64",
         "type": "integer"
        },
        {
         "name": "Email(*)",
         "rawType": "object",
         "type": "string"
        },
        {
         "name": "Phòng ban(*)",
         "rawType": "object",
         "type": "string"
        },
        {
         "name": "Level(*)",
         "rawType": "object",
         "type": "string"
        },
        {
         "name": "Hành động(*)",
         "rawType": "object",
         "type": "string"
        },
        {
         "name": "Lý do lỗi",
         "rawType": "object",
         "type": "string"
        }
       ],
       "ref": "293be253-ace6-4bf9-be18-979e1e23351e",
       "rows": [
        [
         "0",
         "Nguyễn Phương Hậu",
         "65568",
         "haunp10@fpt.com",
         "VX_TTDT",
         "NhanVienTuVan_0",
         "Thêm mới",
         "Email đã tồn tại"
        ]
       ],
       "shape": {
        "columns": 7,
        "rows": 1
       }
      },
      "text/html": [
       "<div>\n",
       "<style scoped>\n",
       "    .dataframe tbody tr th:only-of-type {\n",
       "        vertical-align: middle;\n",
       "    }\n",
       "\n",
       "    .dataframe tbody tr th {\n",
       "        vertical-align: top;\n",
       "    }\n",
       "\n",
       "    .dataframe thead th {\n",
       "        text-align: right;\n",
       "    }\n",
       "</style>\n",
       "<table border=\"1\" class=\"dataframe\">\n",
       "  <thead>\n",
       "    <tr style=\"text-align: right;\">\n",
       "      <th></th>\n",
       "      <th>Tên nhân viên(*)</th>\n",
       "      <th>Mã nhân viên(*)</th>\n",
       "      <th>Email(*)</th>\n",
       "      <th>Phòng ban(*)</th>\n",
       "      <th>Level(*)</th>\n",
       "      <th>Hành động(*)</th>\n",
       "      <th>Lý do lỗi</th>\n",
       "    </tr>\n",
       "  </thead>\n",
       "  <tbody>\n",
       "    <tr>\n",
       "      <th>0</th>\n",
       "      <td>Nguyễn Phương Hậu</td>\n",
       "      <td>65568</td>\n",
       "      <td>haunp10@fpt.com</td>\n",
       "      <td>VX_TTDT</td>\n",
       "      <td>NhanVienTuVan_0</td>\n",
       "      <td>Thêm mới</td>\n",
       "      <td>Email đã tồn tại</td>\n",
       "    </tr>\n",
       "  </tbody>\n",
       "</table>\n",
       "</div>"
      ],
      "text/plain": [
       "    Tên nhân viên(*)  Mã nhân viên(*)         Email(*) Phòng ban(*)  \\\n",
       "0  Nguyễn Phương Hậu            65568  haunp10@fpt.com      VX_TTDT   \n",
       "\n",
       "          Level(*) Hành động(*)         Lý do lỗi  \n",
       "0  NhanVienTuVan_0     Thêm mới  Email đã tồn tại  "
      ]
     },
     "execution_count": 4,
     "metadata": {},
     "output_type": "execute_result"
    }
   ],
   "source": [
    "data = pd.read_excel(r'C:\\Users\\ltanh\\Desktop\\AI Mentor - Danh sách nhân viên lỗi.xlsx')\n",
    "data"
   ]
  }
 ],
 "metadata": {
  "kernelspec": {
   "display_name": "Python 3",
   "language": "python",
   "name": "python3"
  },
  "language_info": {
   "codemirror_mode": {
    "name": "ipython",
    "version": 3
   },
   "file_extension": ".py",
   "mimetype": "text/x-python",
   "name": "python",
   "nbconvert_exporter": "python",
   "pygments_lexer": "ipython3",
   "version": "3.13.2"
  }
 },
 "nbformat": 4,
 "nbformat_minor": 5
}
